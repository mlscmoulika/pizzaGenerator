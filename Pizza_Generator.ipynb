{
  "nbformat": 4,
  "nbformat_minor": 0,
  "metadata": {
    "colab": {
      "name": "Pizza Generator.ipynb",
      "provenance": []
    },
    "kernelspec": {
      "name": "python3",
      "display_name": "Python 3"
    },
    "language_info": {
      "name": "python"
    },
    "accelerator": "TPU"
  },
  "cells": [
    {
      "cell_type": "code",
      "metadata": {
        "id": "Aw-UTgfpHo4a"
      },
      "source": [
        "import keras\n",
        "from keras import layers\n",
        "from keras import regularizers\n",
        "import numpy as np\n",
        "import json\n",
        "import random"
      ],
      "execution_count": null,
      "outputs": []
    },
    {
      "cell_type": "code",
      "metadata": {
        "colab": {
          "base_uri": "https://localhost:8080/"
        },
        "id": "3VJHbtLV8VyJ",
        "outputId": "742e600f-a6ac-4c8b-f5a2-d0f077de526a"
      },
      "source": [
        "from google.colab import drive\n",
        "drive.mount('/content/drive')\n",
        "\n",
        "ingredient_map = json.load(open(\"/content/drive/MyDrive/PizzaGenerator/mapping.json\"))\n",
        "mapping = list(json.load(open(\"/content/drive/MyDrive/PizzaGenerator/mapping.json\")).keys())\n",
        "vectors = json.load(open(\"/content/drive/MyDrive/PizzaGenerator/vectors.json\"))"
      ],
      "execution_count": null,
      "outputs": [
        {
          "output_type": "stream",
          "text": [
            "Mounted at /content/drive\n"
          ],
          "name": "stdout"
        }
      ]
    },
    {
      "cell_type": "code",
      "metadata": {
        "id": "GjLrN0vi_GGF"
      },
      "source": [
        "pizzas = []\n",
        "preferences = []\n",
        "\n",
        "for pizza in vectors:\n",
        "    for _ in range(1000):\n",
        "        pizzas.append(pizza)\n",
        "        preference = []\n",
        "        for ingredient in pizza:\n",
        "            if ingredient == 0:\n",
        "                preference.append(random.choices([0,1],cum_weights=[0.95,1])[0])\n",
        "            else:\n",
        "                preference.append(0)\n",
        "        preferences.append(preference)"
      ],
      "execution_count": 332,
      "outputs": []
    },
    {
      "cell_type": "code",
      "metadata": {
        "id": "WOWNbbsIa5mM"
      },
      "source": [
        "# Input Dataset\n",
        "X1 = np.matrix(pizzas)\n",
        "X2 = np.matrix(preferences)\n",
        "\n",
        "#Number of ingredients\n",
        "(N,M) = X1.shape\n",
        "\n",
        "# This is the size of our encoded representations\n",
        "encoding_dim = 10"
      ],
      "execution_count": 333,
      "outputs": []
    },
    {
      "cell_type": "code",
      "metadata": {
        "id": "V7gIe20rKFmn"
      },
      "source": [
        "# Input layer\n",
        "input_recipe = keras.Input(shape=(M,))\n",
        "input_requirements = keras.Input(shape=(M,))\n",
        "# \"encoded\" is the encoded representation of the input\n",
        "encoded = layers.Dense(encoding_dim, activation='sigmoid', activity_regularizer=regularizers.l1(10e-5))(input_recipe)\n",
        "\n",
        "#dropout = layers.Dropout(.2)(encoded)\n",
        "\n",
        "encoded_requirements = layers.Dense(encoding_dim, activation='relu', activity_regularizer=regularizers.l1(10e-5))(input_requirements)\n",
        "\n",
        "# \"concat\" it concatenates the requirements and the encoded recipe\n",
        "concat = layers.Concatenate()([encoded, encoded_requirements])\n",
        "\n",
        "# \"decoded\" is the lossy reconstruction of the input\n",
        "decoded = layers.Dense(M, activation='sigmoid')(concat)\n",
        "\n",
        "# ThresholdLayer self learn the threshold\n",
        "#threshold = ThresholdLayer()(decoded)\n",
        "\n",
        "# This model maps an input to its reconstruction\n",
        "autoencoder = keras.Model(inputs=[input_recipe,input_requirements], outputs=decoded)"
      ],
      "execution_count": 334,
      "outputs": []
    },
    {
      "cell_type": "code",
      "metadata": {
        "id": "JmVqTT04wsuh"
      },
      "source": [
        "###### DECODER MODEL\n",
        "\n",
        "# Retrieve the last layer of the autoencoder model\n",
        "decoder_layer = autoencoder.layers[-1]\n",
        "\n",
        "encoded_input = keras.Input(shape=(encoding_dim,))\n",
        "\n",
        "concated_input = layers.Concatenate()([encoded_input, encoded_requirements])\n",
        "# Create the decoder model\n",
        "decoder = keras.Model([encoded_input, input_requirements], decoder_layer(concated_input))"
      ],
      "execution_count": 335,
      "outputs": []
    },
    {
      "cell_type": "code",
      "metadata": {
        "id": "H2Lz1TC5gbGk"
      },
      "source": [
        "autoencoder.compile(optimizer='adam', loss=\"mse\")"
      ],
      "execution_count": 336,
      "outputs": []
    },
    {
      "cell_type": "code",
      "metadata": {
        "colab": {
          "base_uri": "https://localhost:8080/"
        },
        "id": "RknXmtwQllSP",
        "outputId": "441b1d0a-f686-4d9c-9b26-756a213f6a49"
      },
      "source": [
        "callback = keras.callbacks.EarlyStopping(monitor='loss', patience=1)\n",
        "\n",
        "autoencoder.fit(x=[X1, X2], y=X1, shuffle=True, epochs=20, batch_size=4000, callbacks=[callback])"
      ],
      "execution_count": 337,
      "outputs": [
        {
          "output_type": "stream",
          "text": [
            "Epoch 1/20\n",
            "58/58 [==============================] - 2s 23ms/step - loss: 0.1952\n",
            "Epoch 2/20\n",
            "58/58 [==============================] - 1s 24ms/step - loss: 0.0748\n",
            "Epoch 3/20\n",
            "58/58 [==============================] - 1s 24ms/step - loss: 0.0432\n",
            "Epoch 4/20\n",
            "58/58 [==============================] - 1s 24ms/step - loss: 0.0387\n",
            "Epoch 5/20\n",
            "58/58 [==============================] - 1s 23ms/step - loss: 0.0373\n",
            "Epoch 6/20\n",
            "58/58 [==============================] - 1s 23ms/step - loss: 0.0367\n",
            "Epoch 7/20\n",
            "58/58 [==============================] - 1s 23ms/step - loss: 0.0363\n",
            "Epoch 8/20\n",
            "58/58 [==============================] - 1s 23ms/step - loss: 0.0360\n",
            "Epoch 9/20\n",
            "58/58 [==============================] - 1s 23ms/step - loss: 0.0358\n",
            "Epoch 10/20\n",
            "58/58 [==============================] - 1s 23ms/step - loss: 0.0355\n",
            "Epoch 11/20\n",
            "58/58 [==============================] - 1s 23ms/step - loss: 0.0352\n",
            "Epoch 12/20\n",
            "58/58 [==============================] - 1s 24ms/step - loss: 0.0349\n",
            "Epoch 13/20\n",
            "58/58 [==============================] - 1s 23ms/step - loss: 0.0346\n",
            "Epoch 14/20\n",
            "58/58 [==============================] - 1s 23ms/step - loss: 0.0342\n",
            "Epoch 15/20\n",
            "58/58 [==============================] - 1s 23ms/step - loss: 0.0339\n",
            "Epoch 16/20\n",
            "58/58 [==============================] - 1s 24ms/step - loss: 0.0335\n",
            "Epoch 17/20\n",
            "58/58 [==============================] - 1s 24ms/step - loss: 0.0332\n",
            "Epoch 18/20\n",
            "58/58 [==============================] - 1s 23ms/step - loss: 0.0328\n",
            "Epoch 19/20\n",
            "58/58 [==============================] - 1s 22ms/step - loss: 0.0324\n",
            "Epoch 20/20\n",
            "58/58 [==============================] - 1s 24ms/step - loss: 0.0320\n"
          ],
          "name": "stdout"
        },
        {
          "output_type": "execute_result",
          "data": {
            "text/plain": [
              "<keras.callbacks.History at 0x7f7b4b96f8d0>"
            ]
          },
          "metadata": {},
          "execution_count": 337
        }
      ]
    },
    {
      "cell_type": "code",
      "metadata": {
        "id": "skqdvw6zwREL",
        "colab": {
          "base_uri": "https://localhost:8080/"
        },
        "outputId": "be369638-f0b0-446a-e634-5515d298d44a"
      },
      "source": [
        "vec = np.random.rand(1,encoding_dim);\n",
        "#requirements = np.matrix(random.choices([-1,0,1],cum_weights=[0.025,0.975,1], k=M));\n",
        "requirements = np.zeros((1,M))\n",
        "requirements[0,0] = 1\n",
        "requirements[0,3] = 1\n",
        "\n",
        "prob = decoder.predict(x=[vec, requirements])\n",
        "pizza = list(range(M))\n",
        "pizza.sort(key=lambda i: prob.item(0,i), reverse = True)\n",
        "\n",
        "hated = []\n",
        "piza = []\n",
        "for i in range(M):\n",
        "    if requirements.item((0,i)) == 1:\n",
        "        hated.append(mapping[i])\n",
        "    if prob.item(0,i) > 0.8 or len(piza) < 5:\n",
        "        piza.append(mapping[pizza[i]])\n",
        "\n",
        "piza.sort()\n",
        "\n",
        "print(\"hated = \", hated)\n",
        "print(\"pizza = \", piza)"
      ],
      "execution_count": 366,
      "outputs": [
        {
          "output_type": "stream",
          "text": [
            "hated =  ['bbq topping', 'pineapple']\n",
            "pizza =  ['black_pepper', 'mozzarella', 'olive_oil', 'salt', 'tomato']\n"
          ],
          "name": "stdout"
        }
      ]
    },
    {
      "cell_type": "code",
      "metadata": {
        "colab": {
          "base_uri": "https://localhost:8080/"
        },
        "id": "ixkc299ANDEW",
        "outputId": "bd3fbce5-168f-4128-d7a3-f0caaa842a01"
      },
      "source": [
        "# serialize model to JSON\n",
        "model_json = decoder.to_json()\n",
        "with open(\"model.json\", \"w\") as json_file:\n",
        "    json_file.write(model_json)\n",
        "# serialize weights to HDF5\n",
        "decoder.save_weights(\"model.h5\")\n",
        "print(\"Saved model to disk\")"
      ],
      "execution_count": 368,
      "outputs": [
        {
          "output_type": "stream",
          "text": [
            "Saved model to disk\n"
          ],
          "name": "stdout"
        }
      ]
    }
  ]
}